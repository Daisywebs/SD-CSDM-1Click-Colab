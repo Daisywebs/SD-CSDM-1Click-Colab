{
  "cells": [
    {
      "cell_type": "markdown",
      "metadata": {
        "id": "view-in-github",
        "colab_type": "text"
      },
      "source": [
        "<a href=\"https://colab.research.google.com/github/YKefasu/Vlad-SD-Google-Colab/blob/master/Vladmandic_SD_A1111.ipynb\" target=\"_parent\"><img src=\"https://colab.research.google.com/assets/colab-badge.svg\" alt=\"Open In Colab\"/></a>"
      ]
    },
    {
      "cell_type": "markdown",
      "metadata": {
        "id": "CrdNfALDl_Q8"
      },
      "source": [
        "<center>\n",
        "\n",
        "`Terakhir diperbarui : 01 Juni 2023 11:00 AM`\n",
        "\n",
        "---\n",
        "\n",
        "<font color=\"#CC3E3E\" size=\"6\">⚠️ <u><b>PERHATIAN</b></u> ⚠️</font></center>\n",
        "\n",
        "> <font color=\"#00CED1\">**INFORMASI**:</font> \n",
        "\n",
        "1. Pastikan Subscribe ke 👉 [youtube.com/@yosiakefas](https://www.youtube.com/@yosiakefas) dan Join [Discord Server](https://discord.gg/j8qmYPAGQh) untuk mendapatkan UPDATE Terbaru.\n",
        "2. Karena adanya [Kebijakan][kebijakan] dan [Pernyataan Resmi][pernyataanresmi] Google Colab yang baru, sebagai pengguna google colab gratis akan dibatasi untuk penggunaan GPU dan CUDA ***(komputasinya dibatasi)***\n",
        "3. Jika akun sudah limit pemakaian google colab akun tersebut akan bisa dipakai lagi dalam waktu 24 jam kedepan.\n",
        "(1 akun google memiliki batas 12 jam pemakiaan)\n",
        "4. Dengan mengganti akun google yang dipakai akan mereset limit pemakaian, tetapi ada batasan jumlah pergantian penggunaan secara wajar (maksimal 3 akun, usahakan jangan lebih)\n",
        "\n",
        "[kebijakan]: https://research.google.com/colaboratory/faq.html#limitations-and-restrictions\n",
        "[pernyataanresmi]: https://twitter.com/thechrisperry/status/1649189902079381505\n",
        "\n",
        "<center><font color=\"#CC3E3E\" size=\"6\">⚠️ <u><b>!! <font color=\"#00CED1\" size=\"6\">WAJIB GPU MODE</font> !!</b></u> ⚠️</font></center>\n",
        "\n",
        "\n",
        "> <font color=\"#CC3E3E\">**PERINGATAN**:</font> \n",
        "\n",
        "1. Jangan pernah sering mengganti akun untuk mengatasi limit pengguaan google colab, karena itu sudah termasuk dalam pelanggaran dalam [kebijakan baru][baru] (usahakan tidak menggunakan lebih dari 3 akun).\n",
        "2. DiKarenakan SYARAT & KETENTUAN Google sewaktu-waktu bisa berubah, ada kemungkinan mempengaruhi Colab ini. Jika terjadi masalah/error harap segerapa Lapor ke Server Discord Terima Kasih 🙏.\n",
        "\n",
        "[baru]:https://research.google.com/colaboratory/intl/id/faq.html\n",
        "\n",
        "</br>\n",
        "\n",
        "<center><font color=\"#00CED1\" size=\"6\">👇 <u><b>PENJELASAN</b></u> 👇</font></br>\n",
        "\n",
        " <a href=\"https://youtu.be/xHApf9gX0PQ\"><img src=\"https://blogger.googleusercontent.com/img/b/R29vZ2xl/AVvXsEh7HyUWTjTknCj4Jqd2TNNQUh8bsf_CyjzXZPB91xA2WHfu9m-5_sSTFowvGiGXp_wT6VxhOLUo4vJkvTUg_WPrsfxFFveWMlsk06XiaFXNwEd79-tK2tHMDiqWP73_HNIp0mVmTWmKmvwLGeWThmi-sBpVuRCopk4kZyPS6y3hmGlSPdJNtrNuKy5a/s853/DeffGDC480.png\" width=\"512\"/></a></a>\n",
        "</center>\n",
        "</br></br>\n",
        "\n",
        "## **<center>Subscribe Youtube Channel & Join Server Discord Kita 😅</center>**\n",
        "<div align=\"center\">\n",
        " <a href=\"https://www.youtube.com/channel/UCsqTcFMsAlegRsUyfyKe_5A\"><img src=\"https://blogger.googleusercontent.com/img/b/R29vZ2xl/AVvXsEiZxKLHX32VYBBOvxvKUDka6uX0wKYYg46EurNzQBUHjaxd2dSJ82paUaJ1OTzpMMt4R7KUuvsbcOLuAg_9NJ1WaRJev8vmRhWea4xfg0AhjSaX2sp3ZFZGD490AArNICVDqzYvrjTqWbKFHxFLE2AYBVaIrGvkwPTqJCroDTvEb43sNuM5wHHCecd6/s350/subscribe-5408999_640.png\" width=\"310\"/></a>ㅤㅤ\n",
        " <a href=\"https://discord.gg/j8qmYPAGQh\"><img src=\"https://cdn.shopify.com/s/files/1/0562/9329/4253/files/Discord_button_480x480.png\" width=\"350\"/></a></div>\n",
        "\n",
        " ___"
      ]
    },
    {
      "cell_type": "code",
      "execution_count": null,
      "metadata": {
        "cellView": "form",
        "id": "nggqMMZ4x1yY"
      },
      "outputs": [],
      "source": [
        "#@markdown #STEP 1️⃣: Connect to Google Drive\n",
        "\n",
        "from IPython.display import clear_output, display, HTML\n",
        "import os\n",
        "import time\n",
        "from datetime import timedelta\n",
        "from google.colab import drive\n",
        "from IPython.utils import capture\n",
        "from subprocess import getoutput\n",
        "from urllib.parse import unquote\n",
        "from google.colab.output import eval_js\n",
        "%cd /content\n",
        "try:\n",
        "  start_colab\n",
        "except:\n",
        "  start_colab = int(time.time())-5\n",
        "clear_output()\n",
        "print(\"\\033[96m\") #Cyan text\n",
        "\n",
        "\n",
        "# Check if gpu exist, stop if don't.\n",
        "try:\n",
        "  output \n",
        "except:\n",
        "  print('⌚ Checking GPU...', end='')\n",
        "  output = getoutput('nvidia-smi --query-gpu=gpu_name --format=csv')\n",
        "  if \"name\" in output:\n",
        "    gpu_name = output[5:]\n",
        "    print('\\r✅ Current GPU:', gpu_name, flush=True)\n",
        "  else:\n",
        "    print('\\r\\033[91m❎ ERROR: Tidak ada GPU yang terdeteksi!! Ikuti langkah di bawah ini untuk mengaktifkannya.\\n', flush=True)\n",
        "    display(HTML(\"<img src='https://i.ibb.co/HC9KH17/NVIDIA-Share-23-01-02-173037.png' width='800px'/>\"))\n",
        "    time.sleep(3)\n",
        "    from google.colab import runtime\n",
        "    runtime.unassign()\n",
        "\n",
        "drive.mount('/content/drive')\n",
        "\n",
        "# Clear the output to keep the notebook clean\n",
        "clear_output()\n",
        "\n",
        "# Print the success message\n",
        "print(\"✓ Done\", \"success\")"
      ]
    },
    {
      "cell_type": "code",
      "execution_count": null,
      "metadata": {
        "cellView": "form",
        "id": "6og06gzPygrO"
      },
      "outputs": [],
      "source": [
        "#@markdown #STEP 2️⃣: Clone Vladmandic SD A1111\n",
        "from IPython.display import clear_output\n",
        "import shutil\n",
        "%cd /content/\n",
        "!git clone https://github.com/YKefasu/Vlad-SD-Google-Colab\n",
        "!git reset --hard\n",
        "\n",
        "# Clear the output to keep the notebook clean\n",
        "clear_output()\n",
        "\n",
        "# Print the success message\n",
        "print(\"✓ Done\", \"success\")"
      ]
    },
    {
      "cell_type": "code",
      "execution_count": null,
      "metadata": {
        "id": "JgoXDrlqX0SQ"
      },
      "outputs": [],
      "source": [
        "#@markdown #STEP 3️⃣: Extensions install\n",
        "from IPython.display import clear_output\n",
        "\n",
        "%cd /content/Vlad-SD-Google-Colab/extensions-builtin/\n",
        "!git clone https://github.com/YKefasu/sd-artists-ui-tweak sd-artists-ui-tweak\n",
        "!git reset --hard\n",
        "\n",
        "%cd /content/Vlad-SD-Google-Colab/extensions/\n",
        "!git clone https://tinyurl.com/sd-huggingface huggingface \n",
        "!git clone https://tinyurl.com/additional-networks additional-networks\n",
        "!git clone https://github.com/fkunn1326/openpose-editor openpose-editor\n",
        "!git clone https://tinyurl.com/depth-lib depth-lib\n",
        "!git clone https://github.com/hnmr293/posex posex\n",
        "!git clone https://tinyurl.com/3d-open-pose-editor 3d-open-pose-editor\n",
        "!git clone https://tinyurl.com/sd-deforum sd-deforum\n",
        "!git clone https://github.com/etherealxx/batchlinks-webui batchlinks-webui\n",
        "!git clone https://tinyurl.com/sd-two-shot two-shot \n",
        "!git clone https://tinyurl.com/aspect-ratio-helper aspect-ratio-helper\n",
        "!git clone https://tinyurl.com/asymmetric-tiling asymmetric-tiling\n",
        "!git clone https://tinyurl.com/tagcomplete tagcomplete\n",
        "!git clone https://tinyurl.com/sd-SAG sd_SAG\n",
        "!git clone https://github.com/Coyote-A/ultimate-upscale-for-automatic1111 ultimate-upscale-for-automatic1111\n",
        "!git clone https://github.com/richrobber2/canvas-zoom canvas-zoom\n",
        "!git clone https://github.com/Klokinator/Umi-AI Umi-AI\n",
        "!git clone https://github.com/Bing-su/adetailer adetailer\n",
        "!git clone https://github.com/CiaraStrawberry/TemporalKit TemporalKit\n",
        "!git reset --hard\n",
        "\n",
        "# Clear the output to keep the notebook clean\n",
        "clear_output()\n",
        "\n",
        "# Print the success message\n",
        "print(\"✓ Done\", \"success\")"
      ]
    },
    {
      "cell_type": "markdown",
      "metadata": {
        "id": "H3jfcR6sXfuq"
      },
      "source": [
        "___\n",
        "___"
      ]
    },
    {
      "cell_type": "code",
      "execution_count": null,
      "metadata": {
        "id": "9b9F3vRe3VzE"
      },
      "outputs": [],
      "source": [
        "#@markdown #Optional🛠️: Controlnet 1.1 Models install\n",
        "from IPython.display import clear_output\n",
        "\n",
        "%cd /content/Vlad-SD-Google-Colab/extensions-builtin/sd-controlnet/\n",
        "!mkdir p models\n",
        "%cd /content/Vlad-SD-Google-Colab/extensions-builtin/sd-controlnet/models/\n",
        "\n",
        "!wget --no-clobber https://huggingface.co/lllyasviel/ControlNet-v1-1/resolve/main/control_v11e_sd15_ip2p.pth -O /content/Vlad-SD-Google-Colab/extensions-builtin/sd-controlnet/models/control_v11e_sd15_ip2p.pth\n",
        "!wget --no-clobber https://huggingface.co/lllyasviel/ControlNet-v1-1/resolve/main/control_v11e_sd15_ip2p.yaml -O /content/Vlad-SD-Google-Colab/extensions-builtin/sd-controlnet/models/control_v11e_sd15_ip2p.yaml\n",
        "!wget --no-clobber https://huggingface.co/lllyasviel/ControlNet-v1-1/resolve/main/control_v11e_sd15_shuffle.pth -O /content/Vlad-SD-Google-Colab/extensions-builtin/sd-controlnet/models/control_v11e_sd15_shuffle.pth\n",
        "!wget --no-clobber https://huggingface.co/lllyasviel/ControlNet-v1-1/resolve/main/control_v11e_sd15_shuffle.yaml -O /content/Vlad-SD-Google-Colab/extensions-builtin/sd-controlnet/models/control_v11e_sd15_shuffle.yaml\n",
        "!wget --no-clobber https://huggingface.co/lllyasviel/ControlNet-v1-1/resolve/main/control_v11f1e_sd15_tile.pth -O /content/Vlad-SD-Google-Colab/extensions-builtin/sd-controlnet/models/control_v11u_sd15_tile.pt\n",
        "!wget --no-clobber https://huggingface.co/lllyasviel/ControlNet-v1-1/resolve/main/control_v11f1e_sd15_tile.yaml -O /content/Vlad-SD-Google-Colab/extensions-builtin/sd-controlnet/models/control_v11u_sd15_tile.yaml\n",
        "!wget --no-clobber https://huggingface.co/lllyasviel/ControlNet-v1-1/resolve/main/control_v11f1p_sd15_depth.pth -O /content/Vlad-SD-Google-Colab/extensions-builtin/sd-controlnet/models/control_v11f1p_sd15_depth.pth\n",
        "!wget --no-clobber https://huggingface.co/lllyasviel/ControlNet-v1-1/resolve/main/control_v11f1p_sd15_depth.yaml -O /content/Vlad-SD-Google-Colab/extensions-builtin/sd-controlnet/models/control_v11f1p_sd15_depth.yaml\n",
        "!wget --no-clobber https://huggingface.co/lllyasviel/ControlNet-v1-1/resolve/main/control_v11p_sd15_canny.pth -O /content/Vlad-SD-Google-Colab/extensions-builtin/sd-controlnet/models/control_v11p_sd15_canny.pth\n",
        "!wget --no-clobber https://huggingface.co/lllyasviel/ControlNet-v1-1/resolve/main/control_v11p_sd15_canny.yaml -O /content/Vlad-SD-Google-Colab/extensions-builtin/sd-controlnet/models/control_v11p_sd15_canny.yaml\n",
        "!wget --no-clobber https://huggingface.co/lllyasviel/ControlNet-v1-1/resolve/main/control_v11p_sd15_inpaint.pth -O /content/Vlad-SD-Google-Colab/extensions-builtin/sd-controlnet/models/control_v11p_sd15_inpaint.pth\n",
        "!wget --no-clobber https://huggingface.co/lllyasviel/ControlNet-v1-1/resolve/main/control_v11p_sd15_inpaint.yaml -O /content/Vlad-SD-Google-Colab/extensions-builtin/sd-controlnet/models/control_v11p_sd15_inpaint.yaml\n",
        "!wget --no-clobber https://huggingface.co/lllyasviel/ControlNet-v1-1/resolve/main/control_v11p_sd15_lineart.pth -O /content/Vlad-SD-Google-Colab/extensions-builtin/sd-controlnet/models/control_v11p_sd15_lineart.pth\n",
        "!wget --no-clobber https://huggingface.co/lllyasviel/ControlNet-v1-1/resolve/main/control_v11p_sd15_lineart.yaml -O /content/Vlad-SD-Google-Colab/extensions-builtin/sd-controlnet/models/control_v11p_sd15_lineart.yaml\n",
        "!wget --no-clobber https://huggingface.co/lllyasviel/ControlNet-v1-1/resolve/main/control_v11p_sd15_mlsd.pth -O /content/Vlad-SD-Google-Colab/extensions-builtin/sd-controlnet/models/control_v11p_sd15_mlsd.pth\n",
        "!wget --no-clobber https://huggingface.co/lllyasviel/ControlNet-v1-1/resolve/main/control_v11p_sd15_mlsd.yaml -O /content/Vlad-SD-Google-Colab/extensions-builtin/sd-controlnet/models/control_v11p_sd15_mlsd.yaml\n",
        "!wget --no-clobber https://huggingface.co/lllyasviel/ControlNet-v1-1/resolve/main/control_v11p_sd15_normalbae.pth -O /content/Vlad-SD-Google-Colab/extensions-builtin/sd-controlnet/models/control_v11p_sd15_normalbae.pth\n",
        "!wget --no-clobber https://huggingface.co/lllyasviel/ControlNet-v1-1/resolve/main/control_v11p_sd15_normalbae.yaml -O /content/Vlad-SD-Google-Colab/extensions-builtin/sd-controlnet/models/control_v11p_sd15_normalbae.yaml\n",
        "!wget --no-clobber https://huggingface.co/lllyasviel/ControlNet-v1-1/resolve/main/control_v11p_sd15_openpose.pth -O /content/Vlad-SD-Google-Colab/extensions-builtin/sd-controlnet/models/control_v11p_sd15_openpose.pth\n",
        "!wget --no-clobber https://huggingface.co/lllyasviel/ControlNet-v1-1/resolve/main/control_v11p_sd15_openpose.yaml -O /content/Vlad-SD-Google-Colab/extensions-builtin/sd-controlnet/models/control_v11p_sd15_openpose.yaml\n",
        "!wget --no-clobber https://huggingface.co/lllyasviel/ControlNet-v1-1/resolve/main/control_v11p_sd15_scribble.pth -O /content/Vlad-SD-Google-Colab/extensions-builtin/sd-controlnet/models/control_v11p_sd15_scribble.pth\n",
        "!wget --no-clobber https://huggingface.co/lllyasviel/ControlNet-v1-1/resolve/main/control_v11p_sd15_scribble.yaml -O /content/Vlad-SD-Google-Colab/extensions-builtin/sd-controlnet/models/control_v11p_sd15_scribble.yaml\n",
        "!wget --no-clobber https://huggingface.co/lllyasviel/ControlNet-v1-1/resolve/main/control_v11p_sd15_seg.pth -O /content/Vlad-SD-Google-Colab/extensions-builtin/sd-controlnet/models/control_v11p_sd15_seg.pth\n",
        "!wget --no-clobber https://huggingface.co/lllyasviel/ControlNet-v1-1/resolve/main/control_v11p_sd15_seg.yaml -O /content/Vlad-SD-Google-Colab/extensions-builtin/sd-controlnet/models/control_v11p_sd15_seg.yaml\n",
        "!wget --no-clobber https://huggingface.co/lllyasviel/ControlNet-v1-1/resolve/main/control_v11p_sd15_softedge.pth -O /content/Vlad-SD-Google-Colab/extensions-builtin/sd-controlnet/models/control_v11p_sd15_softedge.pth\n",
        "!wget --no-clobber https://huggingface.co/lllyasviel/ControlNet-v1-1/resolve/main/control_v11p_sd15_softedge.yaml -O /content/Vlad-SD-Google-Colab/extensions-builtin/sd-controlnet/models/control_v11p_sd15_softedge.yaml\n",
        "!wget --no-clobber https://huggingface.co/lllyasviel/ControlNet-v1-1/resolve/main/control_v11p_sd15s2_lineart_anime.pth -O /content/Vlad-SD-Google-Colab/extensions-builtin/sd-controlnet/models/control_v11p_sd15s2_lineart_anime.pth\n",
        "!wget --no-clobber https://huggingface.co/lllyasviel/ControlNet-v1-1/resolve/main/control_v11p_sd15s2_lineart_anime.yaml -O /content/Vlad-SD-Google-Colab/extensions-builtin/sd-controlnet/models/control_v11p_sd15s2_lineart_anime.yaml\n",
        "\n",
        "# Clear the output to keep the notebook clean\n",
        "clear_output()\n",
        "\n",
        "# Print the success message\n",
        "print(\"✓ Done\", \"success\")"
      ]
    },
    {
      "cell_type": "code",
      "execution_count": null,
      "metadata": {
        "cellView": "form",
        "id": "nEnR3xY-9Ily"
      },
      "outputs": [],
      "source": [
        "#@markdown #Optional🛠️: Download Negtive Embedings\n",
        "from IPython.display import clear_output\n",
        "%cd /content/Vlad-SD-Google-Colab/models\n",
        "!mkdir p embeddings\n",
        "%cd /content/Vlad-SD-Google-Colab/models/embeddings\n",
        "!mkdir p negative\n",
        "%cd /content/Vlad-SD-Google-Colab/models/embeddings/negative\n",
        "\n",
        "!wget https://huggingface.co/embed/negative/resolve/main/EasyNegative.pt\n",
        "!wget https://huggingface.co/embed/negative/resolve/main/EasyNegativeV2.safetensors\n",
        "!wget https://huggingface.co/embed/negative/resolve/main/bad-artist-anime.pt\n",
        "!wget https://huggingface.co/embed/negative/resolve/main/bad-artist.pt\n",
        "!wget https://huggingface.co/embed/negative/resolve/main/bad-hands-5.pt\n",
        "!wget https://huggingface.co/embed/negative/resolve/main/bad-image-v2-39000.pt\n",
        "!wget https://huggingface.co/embed/negative/resolve/main/bad_prompt_version2.pt\n",
        "!wget https://huggingface.co/embed/negative/resolve/main/ng_deepnegative_v1_75t.pt\n",
        "!wget https://huggingface.co/embed/negative/resolve/main/verybadimagenegative_v1.3.pt\n",
        "\n",
        "# Clear the output to keep the notebook clean\n",
        "clear_output()\n",
        "\n",
        "# Print the success message\n",
        "print(\"✓ Done\", \"success\")"
      ]
    },
    {
      "cell_type": "code",
      "execution_count": null,
      "metadata": {
        "cellView": "form",
        "id": "-n-FAz--1jIh"
      },
      "outputs": [],
      "source": [
        "#@markdown #Optional🛠️: Download VAE Collection\n",
        "from IPython.display import clear_output\n",
        "%cd /content/Vlad-SD-Google-Colab/models/\n",
        "!mkdir p VAE\n",
        "!git clone https://huggingface.co/Kefasu/sd-vae-collection /content/Vlad-SD-Google-Colab/models/VAE/\n",
        "!git reset --hard\n",
        "\n",
        "# Clear the output to keep the notebook clean\n",
        "clear_output()\n",
        "\n",
        "# Print the success message\n",
        "print(\"✓ Done\", \"success\")"
      ]
    },
    {
      "cell_type": "markdown",
      "metadata": {
        "id": "70zA3lqGGlAn"
      },
      "source": [
        "___"
      ]
    },
    {
      "cell_type": "code",
      "execution_count": null,
      "metadata": {
        "cellView": "form",
        "id": "BMHP0FZ0yyu2"
      },
      "outputs": [],
      "source": [
        "#@markdown #Optional🧩: Download Models/Checkpoint (DirectLink URL)\n",
        "from IPython.display import clear_output\n",
        "%cd /content/Vlad-SD-Google-Colab/models/\n",
        "!mkdir p Stable-diffusion\n",
        "%cd /content/Vlad-SD-Google-Colab/models/Stable-diffusion/\n",
        "DirectLink_URL_1 = \"https://huggingface.co/gsdf/Counterfeit-V3.0/resolve/main/Counterfeit-V3.0_fp16.safetensors\"  # @param {'type': 'string'}\n",
        "!wget --content-disposition $DirectLink_URL_1\n",
        "\n",
        "DirectLink_URL_2 = \"\"  # @param {'type': 'string'}\n",
        "!wget --content-disposition $DirectLink_URL_2\n",
        "\n",
        "DirectLink_URL_3 = \"\"  # @param {'type': 'string'}\n",
        "!wget --content-disposition $DirectLink_URL_3\n",
        "\n",
        "# Clear the output to keep the notebook clean\n",
        "clear_output()\n",
        "\n",
        "# Print the success message\n",
        "print(\"✓ Done\", \"success\")"
      ]
    },
    {
      "cell_type": "code",
      "execution_count": null,
      "metadata": {
        "cellView": "form",
        "id": "rvgxk3LfFVyj"
      },
      "outputs": [],
      "source": [
        "#@markdown #Optional🧩: Download Sandard LoRA (DirectLink URL)\n",
        "from IPython.display import clear_output\n",
        "%cd /content/Vlad-SD-Google-Colab/models/\n",
        "!mkdir p Lora\n",
        "%cd /content/Vlad-SD-Google-Colab/models/Lora\n",
        "DirectLink_URL_1 = \"\"  # @param {'type': 'string'}\n",
        "!wget --content-disposition $DirectLink_URL_1\n",
        "\n",
        "DirectLink_URL_2 = \"\"  # @param {'type': 'string'}\n",
        "!wget --content-disposition $DirectLink_URL_2\n",
        "\n",
        "DirectLink_URL_3 = \"\"  # @param {'type': 'string'}\n",
        "!wget --content-disposition $DirectLink_URL_3\n",
        "\n",
        "# Clear the output to keep the notebook clean\n",
        "clear_output()\n",
        "\n",
        "# Print the success message\n",
        "print(\"✓ Done\", \"success\")"
      ]
    },
    {
      "cell_type": "code",
      "execution_count": null,
      "metadata": {
        "cellView": "form",
        "id": "CIvLvnnhFqu4"
      },
      "outputs": [],
      "source": [
        "#@markdown #Optional🧩: Download LoCon or LyCORIS (DirectLink URL)\n",
        "from IPython.display import clear_output\n",
        "%cd /content/Vlad-SD-Google-Colab/models/\n",
        "!mkdir p LyCORIS\n",
        "%cd /content/Vlad-SD-Google-Colab/models/LyCORIS\n",
        "DirectLink_URL_1 = \"\"  # @param {'type': 'string'}\n",
        "!wget --content-disposition $DirectLink_URL_1\n",
        "\n",
        "DirectLink_URL_2 = \"\"  # @param {'type': 'string'}\n",
        "!wget --content-disposition $DirectLink_URL_2\n",
        "\n",
        "DirectLink_URL_3 = \"\"  # @param {'type': 'string'}\n",
        "!wget --content-disposition $DirectLink_URL_3\n",
        "\n",
        "# Clear the output to keep the notebook clean\n",
        "clear_output()\n",
        "\n",
        "# Print the success message\n",
        "print(\"✓ Done\", \"success\")"
      ]
    },
    {
      "cell_type": "code",
      "execution_count": null,
      "metadata": {
        "cellView": "form",
        "id": "RYEEx8rGF5xR"
      },
      "outputs": [],
      "source": [
        "#@markdown #Optional🧩: Download Textual Inversion (DirectLink URL)\n",
        "from IPython.display import clear_output\n",
        "%cd /content/Vlad-SD-Google-Colab/models/\n",
        "!mkdir p embeddings\n",
        "%cd /content/Vlad-SD-Google-Colab/models/embeddings\n",
        "DirectLink_URL = \"\"  # @param {'type': 'string'}\n",
        "!wget --content-disposition $DirectLink_URL\n",
        "\n",
        "# Clear the output to keep the notebook clean\n",
        "clear_output()\n",
        "\n",
        "# Print the success message\n",
        "print(\"✓ Done\", \"success\")"
      ]
    },
    {
      "cell_type": "markdown",
      "metadata": {
        "id": "mOHgoH3xFBTt"
      },
      "source": [
        "---\n",
        "---"
      ]
    },
    {
      "cell_type": "code",
      "execution_count": null,
      "metadata": {
        "cellView": "form",
        "id": "Js9xySvP334q"
      },
      "outputs": [],
      "source": [
        "#@markdown #Step 4️⃣: Launch Vladmandic SD A1111 WebUI (GPU Mode)\n",
        "%cd /content\n",
        "\n",
        "%env TF_CPP_MIN_LOG_LEVEL=1\n",
        "\n",
        "!apt -y update -qq\n",
        "!wget http://launchpadlibrarian.net/367274644/libgoogle-perftools-dev_2.5-2.2ubuntu3_amd64.deb\n",
        "!wget https://launchpad.net/ubuntu/+source/google-perftools/2.5-2.2ubuntu3/+build/14795286/+files/google-perftools_2.5-2.2ubuntu3_all.deb\n",
        "!wget https://launchpad.net/ubuntu/+source/google-perftools/2.5-2.2ubuntu3/+build/14795286/+files/libtcmalloc-minimal4_2.5-2.2ubuntu3_amd64.deb\n",
        "!wget https://launchpad.net/ubuntu/+source/google-perftools/2.5-2.2ubuntu3/+build/14795286/+files/libgoogle-perftools4_2.5-2.2ubuntu3_amd64.deb\n",
        "!apt install -qq libunwind8-dev\n",
        "!dpkg -i *.deb\n",
        "%env LD_PRELOAD=libtcmalloc.so\n",
        "!rm *.deb\n",
        "\n",
        "!apt -y install -qq aria2 libcairo2-dev pkg-config python3-dev\n",
        "!pip install numpy==1.23.5 --upgrade\n",
        "\n",
        "%cd /content/Vlad-SD-Google-Colab/\n",
        "!wget https://raw.githubusercontent.com/YKefasu/sdiffusion-scripts/main/run_n_times.py -O /content/Vlad-SD-Google-Colab/scripts/run_n_times.py\n",
        "!sed -i -e '''/    prepare_environment()/a\\    os.system\\(f\\\"\"\"sed -i -e ''\\\"s/dict()))/dict())).cuda()/g\\\"'' /content/Vlad-SD-Google-Colab/repositories/stable-diffusion-stability-ai/ldm/util.py\"\"\")''' /content/Vlad-SD-Google-Colab/launch.py\n",
        "!sed -i -e 's/\\\"sd_model_checkpoint\\\"\\,/\\\"sd_model_checkpoint\\,sd_vae\\,CLIP_stop_at_last_layers\\\"\\,/g' /content/Vlad-SD-Google-Colab/modules/shared.py\n",
        "clear_output()\n",
        "\n",
        "!COMMANDLINE_ARGS=\"--no-hashing --share --allow-code --insecure\" REQS_FILE=\"requirements.txt\" python launch.py"
      ]
    },
    {
      "cell_type": "markdown",
      "metadata": {
        "id": "m7ur_ckUKK4o"
      },
      "source": [
        "</br>\n",
        "\n",
        "</br>\n",
        "\n",
        "## **<center>DiBuat dengan<font color=\"#FF4BD4\"> *SEPENUH HATI* ❤️</font> by [youtube.com/@yosiakefas](https://youtube.com/@yosiakefa)</center>**\n",
        "## **<center>ERROR? Kesusahan? Bingung? Kita akan Bantu jika Join Server Discord</center>**\n",
        "<div align=\"center\">\n",
        " <a href=\"https://www.youtube.com/channel/UCsqTcFMsAlegRsUyfyKe_5A\"><img src=\"https://blogger.googleusercontent.com/img/b/R29vZ2xl/AVvXsEiZxKLHX32VYBBOvxvKUDka6uX0wKYYg46EurNzQBUHjaxd2dSJ82paUaJ1OTzpMMt4R7KUuvsbcOLuAg_9NJ1WaRJev8vmRhWea4xfg0AhjSaX2sp3ZFZGD490AArNICVDqzYvrjTqWbKFHxFLE2AYBVaIrGvkwPTqJCroDTvEb43sNuM5wHHCecd6/s350/subscribe-5408999_640.png\" width=\"310\"/></a>ㅤㅤ\n",
        " <a href=\"https://discord.gg/j8qmYPAGQh\"><img src=\"https://cdn.shopify.com/s/files/1/0562/9329/4253/files/Discord_button_480x480.png\" width=\"350\"/></a></div>"
      ]
    }
  ],
  "metadata": {
    "colab": {
      "gpuType": "T4",
      "private_outputs": true,
      "provenance": [],
      "include_colab_link": true
    },
    "kernelspec": {
      "display_name": "Python 3",
      "name": "python3"
    },
    "language_info": {
      "name": "python"
    },
    "accelerator": "GPU"
  },
  "nbformat": 4,
  "nbformat_minor": 0
}