{
  "nbformat": 4,
  "nbformat_minor": 0,
  "metadata": {
    "colab": {
      "private_outputs": true,
      "provenance": [],
      "gpuType": "T4",
      "authorship_tag": "ABX9TyMjVUOh3tUL7UNhVM/pB6jF",
      "include_colab_link": true
    },
    "kernelspec": {
      "name": "python3",
      "display_name": "Python 3"
    },
    "language_info": {
      "name": "python"
    }
  },
  "cells": [
    {
      "cell_type": "markdown",
      "metadata": {
        "id": "view-in-github",
        "colab_type": "text"
      },
      "source": [
        "<a href=\"https://colab.research.google.com/github/YKefasu/Vlad-SD-Google-Colab/blob/master/Vladmandic_SD_A1111.ipynb\" target=\"_parent\"><img src=\"https://colab.research.google.com/assets/colab-badge.svg\" alt=\"Open In Colab\"/></a>"
      ]
    },
    {
      "cell_type": "code",
      "execution_count": null,
      "metadata": {
        "id": "nggqMMZ4x1yY",
        "cellView": "form"
      },
      "outputs": [],
      "source": [
        "#@markdown #STEP 1️⃣: Connect to Google Drive\n",
        "\n",
        "from google.colab import drive\n",
        "from IPython.display import clear_output\n",
        "drive.mount('/content/drive')\n",
        "\n",
        "# Clear the output to keep the notebook clean\n",
        "clear_output()\n",
        "\n",
        "# Print the success message\n",
        "print(\"✓ Done\", \"success\")"
      ]
    },
    {
      "cell_type": "code",
      "source": [
        "#@markdown #STEP 2️⃣: Clone Vladmandic SD A1111\n",
        "from IPython.display import clear_output\n",
        "%cd /content/\n",
        "!git clone https://github.com/YKefasu/Vlad-SD-Google-Colab\n",
        "\n",
        "# Clear the output to keep the notebook clean\n",
        "clear_output()\n",
        "\n",
        "# Print the success message\n",
        "print(\"✓ Done\", \"success\")"
      ],
      "metadata": {
        "id": "6og06gzPygrO",
        "cellView": "form"
      },
      "execution_count": null,
      "outputs": []
    },
    {
      "cell_type": "code",
      "source": [
        "#@markdown #STEP 3️⃣: Extensions install\n",
        "from IPython.display import clear_output\n",
        "\n",
        "%cd /content/Vlad-SD-Google-Colab/extensions-builtin/\n",
        "!git clone https://github.com/Mikubill/sd-webui-controlnet sd-webui-controlnet\n",
        "!git clone https://tinyurl.com/images-browser images-browser\n",
        "!git clone https://tinyurl.com/sd-rembg rembg\n",
        "!git clone https://github.com/YKefasu/sd-artists-ui-tweak sd-artists-ui-tweak\n",
        "\n",
        "%cd /content/Vlad-SD-Google-Colab/extensions/\n",
        "!git clone https://github.com/camenduru/stable-diffusion-webui-huggingface huggingface \n",
        "!git clone https://github.com/kohya-ss/sd-webui-additional-networks sd-webui-additional-networks\n",
        "!git clone https://github.com/fkunn1326/openpose-editor openpose-editor\n",
        "!git clone https://github.com/jexom/sd-webui-depth-lib sd-webui-depth-lib\n",
        "!git clone https://github.com/hnmr293/posex posex\n",
        "!git clone https://github.com/nonnonstop/sd-webui-3d-open-pose-editor sd-webui-3d-open-pose-editor\n",
        "!git clone https://github.com/camenduru/sd-webui-tunnels sd-webui-tunnels\n",
        "!git clone https://github.com/etherealxx/batchlinks-webui batchlinks-webui\n",
        "!git clone https://github.com/camenduru/stable-diffusion-webui-catppuccin catppuccin \n",
        "!git clone https://github.com/camenduru/a1111-sd-webui-locon a1111-sd-webui-locon\n",
        "!git clone https://github.com/ashen-sensored/stable-diffusion-webui-two-shot two-shot \n",
        "!git clone https://github.com/thomasasfk/sd-webui-aspect-ratio-helper sd-webui-aspect-ratio-helper\n",
        "!git clone https://github.com/tjm35/asymmetric-tiling-sd-webui asymmetric-tiling-sd-webui\n",
        "# Clear the output to keep the notebook clean\n",
        "clear_output()\n",
        "\n",
        "# Print the success message\n",
        "print(\"✓ Done\", \"success\")"
      ],
      "metadata": {
        "id": "JgoXDrlqX0SQ",
        "cellView": "form"
      },
      "execution_count": null,
      "outputs": []
    },
    {
      "cell_type": "markdown",
      "source": [
        "___\n",
        "___"
      ],
      "metadata": {
        "id": "H3jfcR6sXfuq"
      }
    },
    {
      "cell_type": "code",
      "source": [
        "#@markdown #Optional: Controlnet 1.1 Models install\n",
        "from IPython.display import clear_output\n",
        "\n",
        "%cd /content/Vlad-SD-Google-Colab/extensions-builtin/sd-webui-controlnet/models/\n",
        "\n",
        "!wget --no-clobber https://huggingface.co/lllyasviel/ControlNet-v1-1/resolve/main/control_v11e_sd15_ip2p.pth -O /content/Vlad-SD-Google-Colab/extensions-builtin/sd-webui-controlnet/models/control_v11e_sd15_ip2p.pth\n",
        "!wget --no-clobber https://huggingface.co/lllyasviel/ControlNet-v1-1/resolve/main/control_v11e_sd15_ip2p.yaml -O /content/Vlad-SD-Google-Colab/extensions-builtin/sd-webui-controlnet/models/control_v11e_sd15_ip2p.yaml\n",
        "!wget --no-clobber https://huggingface.co/lllyasviel/ControlNet-v1-1/resolve/main/control_v11e_sd15_shuffle.pth -O /content/Vlad-SD-Google-Colab/extensions-builtin/sd-webui-controlnet/models/control_v11e_sd15_shuffle.pth\n",
        "!wget --no-clobber https://huggingface.co/lllyasviel/ControlNet-v1-1/resolve/main/control_v11e_sd15_shuffle.yaml -O /content/Vlad-SD-Google-Colab/extensions-builtin/sd-webui-controlnet/models/control_v11e_sd15_shuffle.yaml\n",
        "!wget --no-clobber https://huggingface.co/lllyasviel/ControlNet-v1-1/resolve/main/control_v11f1e_sd15_tile.pth -O /content/Vlad-SD-Google-Colab/extensions-builtin/sd-webui-controlnet/models/control_v11u_sd15_tile.pt\n",
        "!wget --no-clobber https://huggingface.co/lllyasviel/ControlNet-v1-1/resolve/main/control_v11f1e_sd15_tile.yaml -O /content/Vlad-SD-Google-Colab/extensions-builtin/sd-webui-controlnet/models/control_v11u_sd15_tile.yaml\n",
        "!wget --no-clobber https://huggingface.co/lllyasviel/ControlNet-v1-1/resolve/main/control_v11f1p_sd15_depth.pth -O /content/Vlad-SD-Google-Colab/extensions-builtin/sd-webui-controlnet/models/control_v11f1p_sd15_depth.pth\n",
        "!wget --no-clobber https://huggingface.co/lllyasviel/ControlNet-v1-1/resolve/main/control_v11f1p_sd15_depth.yaml -O /content/Vlad-SD-Google-Colab/extensions-builtin/sd-webui-controlnet/models/control_v11f1p_sd15_depth.yaml\n",
        "!wget --no-clobber https://huggingface.co/lllyasviel/ControlNet-v1-1/resolve/main/control_v11p_sd15_canny.pth -O /content/Vlad-SD-Google-Colab/extensions-builtin/sd-webui-controlnet/models/control_v11p_sd15_canny.pth\n",
        "!wget --no-clobber https://huggingface.co/lllyasviel/ControlNet-v1-1/resolve/main/control_v11p_sd15_canny.yaml -O /content/Vlad-SD-Google-Colab/extensions-builtin/sd-webui-controlnet/models/control_v11p_sd15_canny.yaml\n",
        "!wget --no-clobber https://huggingface.co/lllyasviel/ControlNet-v1-1/resolve/main/control_v11p_sd15_inpaint.pth -O /content/Vlad-SD-Google-Colab/extensions-builtin/sd-webui-controlnet/models/control_v11p_sd15_inpaint.pth\n",
        "!wget --no-clobber https://huggingface.co/lllyasviel/ControlNet-v1-1/resolve/main/control_v11p_sd15_inpaint.yaml -O /content/Vlad-SD-Google-Colab/extensions-builtin/sd-webui-controlnet/models/control_v11p_sd15_inpaint.yaml\n",
        "!wget --no-clobber https://huggingface.co/lllyasviel/ControlNet-v1-1/resolve/main/control_v11p_sd15_lineart.pth -O /content/Vlad-SD-Google-Colab/extensions-builtin/sd-webui-controlnet/models/control_v11p_sd15_lineart.pth\n",
        "!wget --no-clobber https://huggingface.co/lllyasviel/ControlNet-v1-1/resolve/main/control_v11p_sd15_lineart.yaml -O /content/Vlad-SD-Google-Colab/extensions-builtin/sd-webui-controlnet/models/control_v11p_sd15_lineart.yaml\n",
        "!wget --no-clobber https://huggingface.co/lllyasviel/ControlNet-v1-1/resolve/main/control_v11p_sd15_mlsd.pth -O /content/Vlad-SD-Google-Colab/extensions-builtin/sd-webui-controlnet/models/control_v11p_sd15_mlsd.pth\n",
        "!wget --no-clobber https://huggingface.co/lllyasviel/ControlNet-v1-1/resolve/main/control_v11p_sd15_mlsd.yaml -O /content/Vlad-SD-Google-Colab/extensions-builtin/sd-webui-controlnet/models/control_v11p_sd15_mlsd.yaml\n",
        "!wget --no-clobber https://huggingface.co/lllyasviel/ControlNet-v1-1/resolve/main/control_v11p_sd15_normalbae.pth -O /content/Vlad-SD-Google-Colab/extensions-builtin/sd-webui-controlnet/models/control_v11p_sd15_normalbae.pth\n",
        "!wget --no-clobber https://huggingface.co/lllyasviel/ControlNet-v1-1/resolve/main/control_v11p_sd15_normalbae.yaml -O /content/Vlad-SD-Google-Colab/extensions-builtin/sd-webui-controlnet/models/control_v11p_sd15_normalbae.yaml\n",
        "!wget --no-clobber https://huggingface.co/lllyasviel/ControlNet-v1-1/resolve/main/control_v11p_sd15_openpose.pth -O /content/Vlad-SD-Google-Colab/extensions-builtin/sd-webui-controlnet/models/control_v11p_sd15_openpose.pth\n",
        "!wget --no-clobber https://huggingface.co/lllyasviel/ControlNet-v1-1/resolve/main/control_v11p_sd15_openpose.yaml -O /content/Vlad-SD-Google-Colab/extensions-builtin/sd-webui-controlnet/models/control_v11p_sd15_openpose.yaml\n",
        "!wget --no-clobber https://huggingface.co/lllyasviel/ControlNet-v1-1/resolve/main/control_v11p_sd15_scribble.pth -O /content/Vlad-SD-Google-Colab/extensions-builtin/sd-webui-controlnet/models/control_v11p_sd15_scribble.pth\n",
        "!wget --no-clobber https://huggingface.co/lllyasviel/ControlNet-v1-1/resolve/main/control_v11p_sd15_scribble.yaml -O /content/Vlad-SD-Google-Colab/extensions-builtin/sd-webui-controlnet/models/control_v11p_sd15_scribble.yaml\n",
        "!wget --no-clobber https://huggingface.co/lllyasviel/ControlNet-v1-1/resolve/main/control_v11p_sd15_seg.pth -O /content/Vlad-SD-Google-Colab/extensions-builtin/sd-webui-controlnet/models/control_v11p_sd15_seg.pth\n",
        "!wget --no-clobber https://huggingface.co/lllyasviel/ControlNet-v1-1/resolve/main/control_v11p_sd15_seg.yaml -O /content/Vlad-SD-Google-Colab/extensions-builtin/sd-webui-controlnet/models/control_v11p_sd15_seg.yaml\n",
        "!wget --no-clobber https://huggingface.co/lllyasviel/ControlNet-v1-1/resolve/main/control_v11p_sd15_softedge.pth -O /content/Vlad-SD-Google-Colab/extensions-builtin/sd-webui-controlnet/models/control_v11p_sd15_softedge.pth\n",
        "!wget --no-clobber https://huggingface.co/lllyasviel/ControlNet-v1-1/resolve/main/control_v11p_sd15_softedge.yaml -O /content/Vlad-SD-Google-Colab/extensions-builtin/sd-webui-controlnet/models/control_v11p_sd15_softedge.yaml\n",
        "!wget --no-clobber https://huggingface.co/lllyasviel/ControlNet-v1-1/resolve/main/control_v11p_sd15s2_lineart_anime.pth -O /content/Vlad-SD-Google-Colab/extensions-builtin/sd-webui-controlnet/models/control_v11p_sd15s2_lineart_anime.pth\n",
        "!wget --no-clobber https://huggingface.co/lllyasviel/ControlNet-v1-1/resolve/main/control_v11p_sd15s2_lineart_anime.yaml -O /content/Vlad-SD-Google-Colab/extensions-builtin/sd-webui-controlnet/models/control_v11p_sd15s2_lineart_anime.yaml\n",
        "\n",
        "# Clear the output to keep the notebook clean\n",
        "clear_output()\n",
        "\n",
        "# Print the success message\n",
        "print(\"✓ Done\", \"success\", \"50px\")"
      ],
      "metadata": {
        "id": "9b9F3vRe3VzE",
        "cellView": "form"
      },
      "execution_count": null,
      "outputs": []
    },
    {
      "cell_type": "code",
      "source": [
        "#@markdown #Optional: Download Negtive Embedings\n",
        "from IPython.display import clear_output\n",
        "!git clone https://huggingface.co/embed/negative /content/Vlad-SD-Google-Colab/models/embeddings/negative\n",
        "\n",
        "# Clear the output to keep the notebook clean\n",
        "clear_output()\n",
        "\n",
        "# Print the success message\n",
        "print(\"✓ Done\", \"success\", \"50px\")"
      ],
      "metadata": {
        "id": "nEnR3xY-9Ily",
        "cellView": "form"
      },
      "execution_count": null,
      "outputs": []
    },
    {
      "cell_type": "code",
      "source": [
        "#@markdown #Optional: Download VAE Collection\n",
        "from IPython.display import clear_output\n",
        "%cd /content/Vlad-SD-Google-Colab/models/\n",
        "!mkdir p VAE\n",
        "!git clone https://huggingface.co/Kefasu/sd-vae-collection /content/Vlad-SD-Google-Colab/models/VAE/\n",
        "\n",
        "# Clear the output to keep the notebook clean\n",
        "clear_output()\n",
        "\n",
        "# Print the success message\n",
        "print(\"✓ Done\", \"success\", \"50px\")"
      ],
      "metadata": {
        "cellView": "form",
        "id": "-n-FAz--1jIh"
      },
      "execution_count": null,
      "outputs": []
    },
    {
      "cell_type": "markdown",
      "source": [
        "___"
      ],
      "metadata": {
        "id": "70zA3lqGGlAn"
      }
    },
    {
      "cell_type": "code",
      "source": [
        "#@markdown #Optional: Download Models/Checkpoint (DirectLink URL)\n",
        "from IPython.display import clear_output\n",
        "%cd /content/Vlad-SD-Google-Colab/models/\n",
        "!mkdir p Stable-diffusion\n",
        "%cd /content/Vlad-SD-Google-Colab/models/Stable-diffusion/\n",
        "DirectLink_URL = \"https://civitai.com/api/download/models/57618?type=Model&format=SafeTensor&size=pruned&fp=fp16\"  # @param {'type': 'string'}\n",
        "!wget --content-disposition $DirectLink_URL\n",
        "\n",
        "# Clear the output to keep the notebook clean\n",
        "clear_output()\n",
        "\n",
        "# Print the success message\n",
        "print(\"✓ Done\", \"success\", \"50px\")"
      ],
      "metadata": {
        "cellView": "form",
        "id": "BMHP0FZ0yyu2"
      },
      "execution_count": null,
      "outputs": []
    },
    {
      "cell_type": "code",
      "source": [
        "#@markdown #Optional: Download Santadrt LoRA (DirectLink URL)\n",
        "from IPython.display import clear_output\n",
        "%cd /content/Vlad-SD-Google-Colab/models/\n",
        "!mkdir p Lora\n",
        "%cd /content/Vlad-SD-Google-Colab/models/Lora\n",
        "DirectLink_URL = \"\"  # @param {'type': 'string'}\n",
        "!wget --content-disposition $DirectLink_URL\n",
        "\n",
        "# Clear the output to keep the notebook clean\n",
        "clear_output()\n",
        "\n",
        "# Print the success message\n",
        "print(\"✓ Done\", \"success\", \"50px\")"
      ],
      "metadata": {
        "cellView": "form",
        "id": "rvgxk3LfFVyj"
      },
      "execution_count": null,
      "outputs": []
    },
    {
      "cell_type": "code",
      "source": [
        "#@markdown #Optional: Download LyCORIS (DirectLink URL)\n",
        "from IPython.display import clear_output\n",
        "%cd /content/Vlad-SD-Google-Colab/models/\n",
        "!mkdir p LyCORIS\n",
        "%cd /content/Vlad-SD-Google-Colab/models/LyCORIS\n",
        "DirectLink_URL = \"\"  # @param {'type': 'string'}\n",
        "!wget --content-disposition $DirectLink_URL\n",
        "\n",
        "# Clear the output to keep the notebook clean\n",
        "clear_output()\n",
        "\n",
        "# Print the success message\n",
        "print(\"✓ Done\", \"success\", \"50px\")"
      ],
      "metadata": {
        "cellView": "form",
        "id": "CIvLvnnhFqu4"
      },
      "execution_count": null,
      "outputs": []
    },
    {
      "cell_type": "code",
      "source": [
        "#@markdown #Optional: Download Textual Inversion (DirectLink URL)\n",
        "from IPython.display import clear_output\n",
        "%cd /content/Vlad-SD-Google-Colab/models/\n",
        "!mkdir p embeddings\n",
        "%cd /content/Vlad-SD-Google-Colab/models/embeddings\n",
        "DirectLink_URL = \"\"  # @param {'type': 'string'}\n",
        "!wget --content-disposition $DirectLink_URL\n",
        "\n",
        "# Clear the output to keep the notebook clean\n",
        "clear_output()\n",
        "\n",
        "# Print the success message\n",
        "print(\"✓ Done\", \"success\", \"50px\")"
      ],
      "metadata": {
        "cellView": "form",
        "id": "RYEEx8rGF5xR"
      },
      "execution_count": null,
      "outputs": []
    },
    {
      "cell_type": "markdown",
      "source": [
        "---\n",
        "---"
      ],
      "metadata": {
        "id": "mOHgoH3xFBTt"
      }
    },
    {
      "cell_type": "code",
      "source": [
        "#@markdown #Step 4️⃣: Launch Vladmandic SD A1111 WebUI (GPU mode)\n",
        "!pip install numpy==1.23.5 --upgrade\n",
        "%cd /content/Vlad-SD-Google-Colab/\n",
        "!COMMANDLINE_ARGS=\"--no-hashing --share\" REQS_FILE=\"requirements.txt\" python launch.py"
      ],
      "metadata": {
        "id": "Js9xySvP334q",
        "cellView": "form"
      },
      "execution_count": null,
      "outputs": []
    }
  ]
}