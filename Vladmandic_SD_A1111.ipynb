{
  "nbformat": 4,
  "nbformat_minor": 0,
  "metadata": {
    "colab": {
      "private_outputs": true,
      "provenance": [],
      "gpuType": "T4",
      "authorship_tag": "ABX9TyNXz4B/qYHZZglQLyjM6VDj",
      "include_colab_link": true
    },
    "kernelspec": {
      "name": "python3",
      "display_name": "Python 3"
    },
    "language_info": {
      "name": "python"
    }
  },
  "cells": [
    {
      "cell_type": "markdown",
      "metadata": {
        "id": "view-in-github",
        "colab_type": "text"
      },
      "source": [
        "<a href=\"https://colab.research.google.com/github/YKefasu/Vlad-SD-Google-Colab/blob/master/Vladmandic_SD_A1111.ipynb\" target=\"_parent\"><img src=\"https://colab.research.google.com/assets/colab-badge.svg\" alt=\"Open In Colab\"/></a>"
      ]
    },
    {
      "cell_type": "code",
      "execution_count": null,
      "metadata": {
        "id": "nggqMMZ4x1yY"
      },
      "outputs": [],
      "source": [
        "#@markdown #STEP 1️⃣: Connect to Google Drive\n",
        "\n",
        "from google.colab import drive\n",
        "drive.mount('/content/drive')"
      ]
    },
    {
      "cell_type": "code",
      "source": [
        "#@markdown #STEP 2️⃣: Clone Vladmandic SD A1111\n",
        "%cd /content/\n",
        "!git clone https://github.com/YKefasu/Vlad-SD-Google-Colab"
      ],
      "metadata": {
        "id": "6og06gzPygrO"
      },
      "execution_count": null,
      "outputs": []
    },
    {
      "cell_type": "code",
      "source": [
        "#@markdown #STEP 3️⃣: Extensions install\n",
        "\n",
        "%cd /content/Vlad-SD-Google-Colab/extensions-builtin/\n",
        "!git clone https://github.com/Mikubill/sd-webui-controlnet /content/stable-diffusion-webui/extensions/sd-webui-controlnet\n",
        "!git clone https://github.com/yfszzx/stable-diffusion-webui-images-browser /content/stable-diffusion-webui/extensions/stable-diffusion-webui-images-browser\n",
        "!git clone https://github.com/AUTOMATIC1111/stable-diffusion-webui-rembg /content/stable-diffusion-webui/extensions/stable-diffusion-webui-rembg\n",
        "\n",
        "%cd /content/Vlad-SD-Google-Colab/extensions/\n",
        "!git clone https://github.com/camenduru/stable-diffusion-webui-huggingface /content/stable-diffusion-webui/extensions/stable-diffusion-webui-huggingface\n",
        "!git clone https://github.com/camenduru/sd-civitai-browser /content/stable-diffusion-webui/extensions/sd-civitai-browser\n",
        "!git clone https://github.com/kohya-ss/sd-webui-additional-networks /content/stable-diffusion-webui/extensions/sd-webui-additional-networks\n",
        "!git clone https://github.com/fkunn1326/openpose-editor /content/stable-diffusion-webui/extensions/openpose-editor\n",
        "!git clone https://github.com/jexom/sd-webui-depth-lib /content/stable-diffusion-webui/extensions/sd-webui-depth-lib\n",
        "!git clone https://github.com/hnmr293/posex /content/stable-diffusion-webui/extensions/posex\n",
        "!git clone https://github.com/nonnonstop/sd-webui-3d-open-pose-editor /content/stable-diffusion-webui/extensions/sd-webui-3d-open-pose-editor\n",
        "!git clone https://github.com/camenduru/sd-webui-tunnels /content/stable-diffusion-webui/extensions/sd-webui-tunnels\n",
        "!git clone https://github.com/etherealxx/batchlinks-webui /content/stable-diffusion-webui/extensions/batchlinks-webui\n",
        "!git clone https://github.com/camenduru/stable-diffusion-webui-catppuccin /content/stable-diffusion-webui/extensions/stable-diffusion-webui-catppuccin\n",
        "!git clone https://github.com/camenduru/a1111-sd-webui-locon /content/stable-diffusion-webui/extensions/a1111-sd-webui-locon\n",
        "!git clone https://github.com/ashen-sensored/stable-diffusion-webui-two-shot /content/stable-diffusion-webui/extensions/stable-diffusion-webui-two-shot\n",
        "!git clone https://github.com/camenduru/sd_webui_stealth_pnginfo /content/stable-diffusion-webui/extensions/sd_webui_stealth_pnginfo\n",
        "!git clone https://github.com/thomasasfk/sd-webui-aspect-ratio-helper /content/stable-diffusion-webui/extensions/sd-webui-aspect-ratio-helper\n",
        "!git clone https://github.com/tjm35/asymmetric-tiling-sd-webui /content/stable-diffusion-webui/extensions/asymmetric-tiling-sd-webui"
      ],
      "metadata": {
        "id": "JgoXDrlqX0SQ"
      },
      "execution_count": null,
      "outputs": []
    },
    {
      "cell_type": "markdown",
      "source": [
        "___\n",
        "___"
      ],
      "metadata": {
        "id": "H3jfcR6sXfuq"
      }
    },
    {
      "cell_type": "code",
      "source": [
        "#@markdown #Optional: Controlnet 1.1 Models install (NEED Huggingface🤗 Token)\n",
        "user_token = \"\" #@param {type:\"string\"}\n",
        "user_header = f\"\\\"Authorization: Bearer {user_token}\\\"\"\n",
        "\n",
        "%cd /content/Vlad-SD-Google-Colab/extensions-builtin/sd-webui-controlnet/\n",
        "!mkdir -p models\n",
        "!wget --no-clobber --header={user_header} https://huggingface.co/lllyasviel/ControlNet-v1-1/resolve/main/control_v11e_sd15_ip2p.pth -O /content/Vlad-SD-Google-Colab/extensions-builtin/sd-webui-controlnet/models/control_v11e_sd15_ip2p.pth\n",
        "!wget --no-clobber --header={user_header} https://huggingface.co/lllyasviel/ControlNet-v1-1/resolve/main/control_v11e_sd15_ip2p.yaml -O /content/Vlad-SD-Google-Colab/extensions-builtin/sd-webui-controlnet/models/control_v11e_sd15_ip2p.yaml\n",
        "!wget --no-clobber --header={user_header} https://huggingface.co/lllyasviel/ControlNet-v1-1/resolve/main/control_v11e_sd15_shuffle.pth -O /content/Vlad-SD-Google-Colab/extensions-builtin/sd-webui-controlnet/models/control_v11e_sd15_shuffle.pth\n",
        "!wget --no-clobber --header={user_header} https://huggingface.co/lllyasviel/ControlNet-v1-1/resolve/main/control_v11e_sd15_shuffle.yaml -O /content/Vlad-SD-Google-Colab/extensions-builtin/sd-webui-controlnet/models/control_v11e_sd15_shuffle.yaml\n",
        "!wget --no-clobber --header={user_header} https://huggingface.co/lllyasviel/ControlNet-v1-1/resolve/main/control_v11f1p_sd15_depth.pth -O /content/Vlad-SD-Google-Colab/extensions-builtin/sd-webui-controlnet/models/control_v11f1p_sd15_depth.pth\n",
        "!wget --no-clobber --header={user_header} https://huggingface.co/lllyasviel/ControlNet-v1-1/resolve/main/control_v11f1p_sd15_depth.yaml -O /content/Vlad-SD-Google-Colab/extensions-builtin/sd-webui-controlnet/models/control_v11f1p_sd15_depth.yaml\n",
        "!wget --no-clobber --header={user_header} https://huggingface.co/lllyasviel/ControlNet-v1-1/resolve/main/control_v11p_sd15_canny.pth -O /content/Vlad-SD-Google-Colab/extensions-builtin/sd-webui-controlnet/models/control_v11p_sd15_canny.pth\n",
        "!wget --no-clobber --header={user_header} https://huggingface.co/lllyasviel/ControlNet-v1-1/resolve/main/control_v11p_sd15_canny.yaml -O /content/Vlad-SD-Google-Colab/extensions-builtin/sd-webui-controlnet/models/control_v11p_sd15_canny.yaml\n",
        "!wget --no-clobber --header={user_header} https://huggingface.co/lllyasviel/ControlNet-v1-1/resolve/main/control_v11p_sd15_inpaint.pth -O /content/Vlad-SD-Google-Colab/extensions-builtin/sd-webui-controlnet/models/control_v11p_sd15_inpaint.pth\n",
        "!wget --no-clobber --header={user_header} https://huggingface.co/lllyasviel/ControlNet-v1-1/resolve/main/control_v11p_sd15_inpaint.yaml -O /content/Vlad-SD-Google-Colab/extensions-builtin/sd-webui-controlnet/models/control_v11p_sd15_inpaint.yaml\n",
        "!wget --no-clobber --header={user_header} https://huggingface.co/lllyasviel/ControlNet-v1-1/resolve/main/control_v11p_sd15_lineart.pth -O /content/Vlad-SD-Google-Colab/extensions-builtin/sd-webui-controlnet/models/control_v11p_sd15_lineart.pth\n",
        "!wget --no-clobber --header={user_header} https://huggingface.co/lllyasviel/ControlNet-v1-1/resolve/main/control_v11p_sd15_lineart.yaml -O /content/Vlad-SD-Google-Colab/extensions-builtin/sd-webui-controlnet/models/control_v11p_sd15_lineart.yaml\n",
        "!wget --no-clobber --header={user_header} https://huggingface.co/lllyasviel/ControlNet-v1-1/resolve/main/control_v11p_sd15_mlsd.pth -O /content/Vlad-SD-Google-Colab/extensions-builtin/sd-webui-controlnet/models/control_v11p_sd15_mlsd.pth\n",
        "!wget --no-clobber --header={user_header} https://huggingface.co/lllyasviel/ControlNet-v1-1/resolve/main/control_v11p_sd15_mlsd.yaml -O /content/Vlad-SD-Google-Colab/extensions-builtin/sd-webui-controlnet/models/control_v11p_sd15_mlsd.yaml\n",
        "!wget --no-clobber --header={user_header} https://huggingface.co/lllyasviel/ControlNet-v1-1/resolve/main/control_v11p_sd15_normalbae.pth -O /content/Vlad-SD-Google-Colab/extensions-builtin/sd-webui-controlnet/models/control_v11p_sd15_normalbae.pth\n",
        "!wget --no-clobber --header={user_header} https://huggingface.co/lllyasviel/ControlNet-v1-1/resolve/main/control_v11p_sd15_normalbae.yaml -O /content/Vlad-SD-Google-Colab/extensions-builtin/sd-webui-controlnet/models/control_v11p_sd15_normalbae.yaml\n",
        "!wget --no-clobber --header={user_header} https://huggingface.co/lllyasviel/ControlNet-v1-1/resolve/main/control_v11p_sd15_openpose.pth -O /content/Vlad-SD-Google-Colab/extensions-builtin/sd-webui-controlnet/models/control_v11p_sd15_openpose.pth\n",
        "!wget --no-clobber --header={user_header} https://huggingface.co/lllyasviel/ControlNet-v1-1/resolve/main/control_v11p_sd15_openpose.yaml -O /content/Vlad-SD-Google-Colab/extensions-builtin/sd-webui-controlnet/models/control_v11p_sd15_openpose.yaml\n",
        "!wget --no-clobber --header={user_header} https://huggingface.co/lllyasviel/ControlNet-v1-1/resolve/main/control_v11p_sd15_scribble.pth -O /content/Vlad-SD-Google-Colab/extensions-builtin/sd-webui-controlnet/models/control_v11p_sd15_scribble.pth\n",
        "!wget --no-clobber --header={user_header} https://huggingface.co/lllyasviel/ControlNet-v1-1/resolve/main/control_v11p_sd15_scribble.yaml -O /content/Vlad-SD-Google-Colab/extensions-builtin/sd-webui-controlnet/models/control_v11p_sd15_scribble.yaml\n",
        "!wget --no-clobber --header={user_header} https://huggingface.co/lllyasviel/ControlNet-v1-1/resolve/main/control_v11p_sd15_seg.pth -O /content/Vlad-SD-Google-Colab/extensions-builtin/sd-webui-controlnet/models/control_v11p_sd15_seg.pth\n",
        "!wget --no-clobber --header={user_header} https://huggingface.co/lllyasviel/ControlNet-v1-1/resolve/main/control_v11p_sd15_seg.yaml -O /content/Vlad-SD-Google-Colab/extensions-builtin/sd-webui-controlnet/models/control_v11p_sd15_seg.yaml\n",
        "!wget --no-clobber --header={user_header} https://huggingface.co/lllyasviel/ControlNet-v1-1/resolve/main/control_v11p_sd15_softedge.pth -O /content/Vlad-SD-Google-Colab/extensions-builtin/sd-webui-controlnet/models/control_v11p_sd15_softedge.pth\n",
        "!wget --no-clobber --header={user_header} https://huggingface.co/lllyasviel/ControlNet-v1-1/resolve/main/control_v11p_sd15_softedge.yaml -O /content/Vlad-SD-Google-Colab/extensions-builtin/sd-webui-controlnet/models/control_v11p_sd15_softedge.yaml\n",
        "!wget --no-clobber --header={user_header} https://huggingface.co/lllyasviel/ControlNet-v1-1/resolve/main/control_v11p_sd15s2_lineart_anime.pth -O /content/Vlad-SD-Google-Colab/extensions-builtin/sd-webui-controlnet/models/control_v11p_sd15s2_lineart_anime.pth\n",
        "!wget --no-clobber --header={user_header} https://huggingface.co/lllyasviel/ControlNet-v1-1/resolve/main/control_v11p_sd15s2_lineart_anime.yaml -O /content/Vlad-SD-Google-Colab/extensions-builtin/sd-webui-controlnet/models/control_v11p_sd15s2_lineart_anime.yaml\n",
        "!wget --no-clobber --header={user_header} https://huggingface.co/lllyasviel/ControlNet-v1-1/resolve/main/control_v11u_sd15_tile.pth -O /content/Vlad-SD-Google-Colab/extensions-builtin/sd-webui-controlnet/models/control_v11u_sd15_tile.pt\n",
        "!wget --no-clobber --header={user_header} https://huggingface.co/lllyasviel/ControlNet-v1-1/resolve/main/control_v11u_sd15_tile.yaml -O /content/Vlad-SD-Google-Colab/extensions-builtin/sd-webui-controlnet/models/control_v11u_sd15_tile.yaml\n",
        "\n",
        "# Clear the output to keep the notebook clean\n",
        "clear_output()\n",
        "\n",
        "# Print the success message\n",
        "inf(\"✓ Done\", \"success\", \"50px\")"
      ],
      "metadata": {
        "id": "9b9F3vRe3VzE",
        "cellView": "form"
      },
      "execution_count": null,
      "outputs": []
    },
    {
      "cell_type": "code",
      "source": [
        "#@markdown #Optional: Install Negtive Embedings\n",
        "!git clone https://huggingface.co/embed/negative /content/Vlad-SD-Google-Colab/models/embeddings/negative"
      ],
      "metadata": {
        "id": "nEnR3xY-9Ily"
      },
      "execution_count": null,
      "outputs": []
    },
    {
      "cell_type": "code",
      "source": [
        "#@markdown #Step 3: Launch Vladmandic SD A1111 WebUI (GPU mode)\n",
        "%cd /content/automatic/\n",
        "!COMMANDLINE_ARGS=\"--no-hashing --share --ckpt /content/drive/MyDrive/SDmodels/clarity_19-pruned.safetensors --ui-config-file /content/drive/MyDrive/1my/vlad-ui-config-my.json --ui-settings-file /content/drive/MyDrive/1my/vlad-config-my.json\" REQS_FILE=\"requirements.txt\" python launch.py"
      ],
      "metadata": {
        "id": "Js9xySvP334q"
      },
      "execution_count": null,
      "outputs": []
    }
  ]
}